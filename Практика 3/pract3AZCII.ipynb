{
  "nbformat": 4,
  "nbformat_minor": 0,
  "metadata": {
    "colab": {
      "provenance": []
    },
    "kernelspec": {
      "name": "python3",
      "display_name": "Python 3"
    },
    "language_info": {
      "name": "python"
    }
  },
  "cells": [
    {
      "cell_type": "markdown",
      "source": [
        "# Практическая работа 3 | Журавлев Александр Дмитриевич ББМО-02-23"
      ],
      "metadata": {
        "id": "u7HK2pnO_oPI"
      }
    },
    {
      "cell_type": "markdown",
      "source": [
        "Импортирование библиотек"
      ],
      "metadata": {
        "id": "TXMBXrifA6P-"
      }
    },
    {
      "cell_type": "code",
      "source": [
        "import tensorflow as tf\n",
        "from tensorflow.keras.datasets import mnist\n",
        "from tensorflow.keras.utils import to_categorical\n",
        "import torch\n",
        "import torch.nn as nn\n",
        "import numpy as np\n",
        "import matplotlib.pyplot as plt\n",
        "import tensorflow as tf"
      ],
      "metadata": {
        "id": "88ReALEsA_kC"
      },
      "execution_count": 3,
      "outputs": []
    },
    {
      "cell_type": "markdown",
      "source": [
        "Загрузка уже обученной модели и данных MNIST для их использования в атаке"
      ],
      "metadata": {
        "id": "4N1TzAlFBR4n"
      }
    },
    {
      "cell_type": "code",
      "source": [
        "# Загрузка тестовых данных MNIST\n",
        "(_, _), (test_images, test_labels) = mnist.load_data()\n",
        "\n",
        "# Нормализация данных\n",
        "test_images = test_images / 255.0\n",
        "\n",
        "# Преобразование меток в формат \"one-hot encoded\"\n",
        "test_labels = to_categorical(test_labels, 10)\n",
        "\n",
        "# Загрузка обученной модели\n",
        "model = tf.keras.models.load_model('mnist_model.h5')\n",
        "\n",
        "# Проверка точности модели на обычных данных\n",
        "test_loss, test_acc = model.evaluate(test_images, test_labels)\n",
        "print(f'Test accuracy on clean images: {test_acc}')"
      ],
      "metadata": {
        "colab": {
          "base_uri": "https://localhost:8080/"
        },
        "id": "yd2pNKNKAOYX",
        "outputId": "d05f77a1-4d6a-4163-9319-5db6e0fe856d"
      },
      "execution_count": 5,
      "outputs": [
        {
          "output_type": "stream",
          "name": "stderr",
          "text": [
            "WARNING:absl:Compiled the loaded model, but the compiled metrics have yet to be built. `model.compile_metrics` will be empty until you train or evaluate the model.\n"
          ]
        },
        {
          "output_type": "stream",
          "name": "stdout",
          "text": [
            "\u001b[1m313/313\u001b[0m \u001b[32m━━━━━━━━━━━━━━━━━━━━\u001b[0m\u001b[37m\u001b[0m \u001b[1m1s\u001b[0m 2ms/step - accuracy: 0.9695 - loss: 0.1000\n",
            "Test accuracy on clean images: 0.9761999845504761\n"
          ]
        }
      ]
    },
    {
      "cell_type": "markdown",
      "source": [
        "Установка Foolbox"
      ],
      "metadata": {
        "id": "3WsV2eP-BavX"
      }
    },
    {
      "cell_type": "code",
      "source": [
        "!pip install foolbox"
      ],
      "metadata": {
        "colab": {
          "base_uri": "https://localhost:8080/"
        },
        "id": "0yBgaIciARCi",
        "outputId": "4f312294-fe73-4ff2-8e99-7f60c7369cb3"
      },
      "execution_count": 6,
      "outputs": [
        {
          "output_type": "stream",
          "name": "stdout",
          "text": [
            "Collecting foolbox\n",
            "  Downloading foolbox-3.3.4-py3-none-any.whl.metadata (7.3 kB)\n",
            "Requirement already satisfied: numpy in /usr/local/lib/python3.10/dist-packages (from foolbox) (1.26.4)\n",
            "Requirement already satisfied: scipy in /usr/local/lib/python3.10/dist-packages (from foolbox) (1.13.1)\n",
            "Requirement already satisfied: setuptools in /usr/local/lib/python3.10/dist-packages (from foolbox) (75.1.0)\n",
            "Collecting eagerpy>=0.30.0 (from foolbox)\n",
            "  Downloading eagerpy-0.30.0-py3-none-any.whl.metadata (5.5 kB)\n",
            "Requirement already satisfied: GitPython>=3.0.7 in /usr/local/lib/python3.10/dist-packages (from foolbox) (3.1.43)\n",
            "Requirement already satisfied: typing-extensions>=3.7.4.1 in /usr/local/lib/python3.10/dist-packages (from foolbox) (4.12.2)\n",
            "Requirement already satisfied: requests>=2.24.0 in /usr/local/lib/python3.10/dist-packages (from foolbox) (2.32.3)\n",
            "Requirement already satisfied: gitdb<5,>=4.0.1 in /usr/local/lib/python3.10/dist-packages (from GitPython>=3.0.7->foolbox) (4.0.11)\n",
            "Requirement already satisfied: charset-normalizer<4,>=2 in /usr/local/lib/python3.10/dist-packages (from requests>=2.24.0->foolbox) (3.4.0)\n",
            "Requirement already satisfied: idna<4,>=2.5 in /usr/local/lib/python3.10/dist-packages (from requests>=2.24.0->foolbox) (3.10)\n",
            "Requirement already satisfied: urllib3<3,>=1.21.1 in /usr/local/lib/python3.10/dist-packages (from requests>=2.24.0->foolbox) (2.2.3)\n",
            "Requirement already satisfied: certifi>=2017.4.17 in /usr/local/lib/python3.10/dist-packages (from requests>=2.24.0->foolbox) (2024.8.30)\n",
            "Requirement already satisfied: smmap<6,>=3.0.1 in /usr/local/lib/python3.10/dist-packages (from gitdb<5,>=4.0.1->GitPython>=3.0.7->foolbox) (5.0.1)\n",
            "Downloading foolbox-3.3.4-py3-none-any.whl (1.7 MB)\n",
            "\u001b[2K   \u001b[90m━━━━━━━━━━━━━━━━━━━━━━━━━━━━━━━━━━━━━━━━\u001b[0m \u001b[32m1.7/1.7 MB\u001b[0m \u001b[31m17.1 MB/s\u001b[0m eta \u001b[36m0:00:00\u001b[0m\n",
            "\u001b[?25hDownloading eagerpy-0.30.0-py3-none-any.whl (31 kB)\n",
            "Installing collected packages: eagerpy, foolbox\n",
            "Successfully installed eagerpy-0.30.0 foolbox-3.3.4\n"
          ]
        }
      ]
    },
    {
      "cell_type": "markdown",
      "source": [
        "Реализация атаки Carlini-Wagner"
      ],
      "metadata": {
        "id": "RUN_oY_uBcGG"
      }
    },
    {
      "cell_type": "code",
      "source": [
        "import foolbox as fb\n",
        "\n",
        "# Инициализация Foolbox модели\n",
        "fmodel = fb.TensorFlowModel(model, bounds=(0, 1))\n",
        "\n",
        "# Извлечение изображения для атаки\n",
        "image = tf.convert_to_tensor(test_images[1], dtype=tf.float32)[None, ...]\n",
        "label = np.argmax(test_labels[0])\n",
        "label = tf.convert_to_tensor(label, dtype=tf.int64)\n",
        "\n",
        "# Выполнение атаки\n",
        "attack = fb.attacks.L2CarliniWagnerAttack(steps=3)\n",
        "tf.config.list_physical_devices('GPU')\n",
        "adversarial_image = attack(fmodel, image, label[None], epsilons=0.1)\n",
        "\n",
        "plt.figure()\n",
        "plt.subplot(1, 2, 1)\n",
        "plt.title(\"Оригинальное изображение\")\n",
        "plt.imshow(image[0].numpy(), cmap=\"gray\")\n",
        "plt.subplot(1, 2, 2)\n",
        "plt.title(\"Противоречивое изображение (CW Attack)\")\n",
        "plt.imshow(adversarial_image[0][0].numpy(), cmap=\"gray\")\n",
        "plt.show()\n"
      ],
      "metadata": {
        "colab": {
          "base_uri": "https://localhost:8080/",
          "height": 308
        },
        "id": "V-fXDvp0AUqg",
        "outputId": "8c7f6d7f-a5c4-43d1-b2c0-b0dba85cbf6e"
      },
      "execution_count": 8,
      "outputs": [
        {
          "output_type": "display_data",
          "data": {
            "text/plain": [
              "<Figure size 640x480 with 2 Axes>"
            ],
            "image/png": "[encoded data removed]"
          },
          "metadata": {}
        }
      ]
    },
    {
      "cell_type": "markdown",
      "source": [
        "Оценка модели на противоречивых примерах"
      ],
      "metadata": {
        "id": "OT_pEF-zBpqm"
      }
    },
    {
      "cell_type": "code",
      "source": [
        "# Создание набора противоречивых примеров для всего тестового набора\n",
        "adversarial_images = []\n",
        "for i in range(len(test_images) // 10): # ограничил выборку для ускорения выполнения\n",
        "    image = tf.convert_to_tensor(test_images[i], dtype=tf.float32)[None, ...]\n",
        "    label = np.argmax(test_labels[i])\n",
        "    label = tf.convert_to_tensor(label, dtype=tf.int64)\n",
        "    advs, _, success = attack(fmodel, image, label[None], epsilons=0.1)\n",
        "    adversarial_images.append(advs)\n",
        "\n",
        "# Оценка точности модели на противоречивых примерах\n",
        "adversarial_images = tf.concat(adversarial_images, axis=0)\n",
        "adversarial_loss, adversarial_acc = model.evaluate(adversarial_images, test_labels[:1000])\n",
        "print(f'Accuracy on adversarial examples (CW attack): {adversarial_acc}')"
      ],
      "metadata": {
        "colab": {
          "base_uri": "https://localhost:8080/"
        },
        "id": "mChelg4JAgOd",
        "outputId": "4235c4ea-eb6d-4ebe-dc10-e15e1469b876"
      },
      "execution_count": 9,
      "outputs": [
        {
          "output_type": "stream",
          "name": "stdout",
          "text": [
            "\u001b[1m32/32\u001b[0m \u001b[32m━━━━━━━━━━━━━━━━━━━━\u001b[0m\u001b[37m\u001b[0m \u001b[1m0s\u001b[0m 2ms/step - accuracy: 0.1056 - loss: 2.3915 \n",
            "Accuracy on adversarial examples (CW attack): 0.09600000083446503\n"
          ]
        }
      ]
    }
  ]
}