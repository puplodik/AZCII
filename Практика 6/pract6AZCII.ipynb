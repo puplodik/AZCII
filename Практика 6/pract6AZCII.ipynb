{
  "nbformat": 4,
  "nbformat_minor": 0,
  "metadata": {
    "colab": {
      "provenance": [],
      "gpuType": "T4"
    },
    "kernelspec": {
      "name": "python3",
      "display_name": "Python 3"
    },
    "language_info": {
      "name": "python"
    },
    "accelerator": "GPU"
  },
  "cells": [
    {
      "cell_type": "markdown",
      "source": [
        "# Практическая работа 6 Журавлев А.Д. ББМО-02-23"
      ],
      "metadata": {
        "id": "6DUHlXABqmrB"
      }
    },
    {
      "cell_type": "markdown",
      "source": [
        "Подключение библиотек"
      ],
      "metadata": {
        "id": "g2Tue3XevbXy"
      }
    },
    {
      "cell_type": "code",
      "source": [
        "import tensorflow as tf\n",
        "from tensorflow.keras.datasets import mnist\n",
        "from tensorflow.keras.models import Sequential\n",
        "from tensorflow.keras.layers import Dense, Flatten, Conv2D, MaxPooling2D\n",
        "from tensorflow.keras.utils import to_categorical\n",
        "import matplotlib.pyplot as plt\n",
        "import numpy as np"
      ],
      "metadata": {
        "id": "MrIb6-hMqxR1"
      },
      "execution_count": 13,
      "outputs": []
    },
    {
      "cell_type": "markdown",
      "source": [
        "Загрузка датасета MNIST"
      ],
      "metadata": {
        "id": "j75gZXYQwcwu"
      }
    },
    {
      "cell_type": "code",
      "source": [
        "(train_images, train_labels), (test_images, test_labels) = mnist.load_data()\n",
        "train_images = train_images / 255.0\n",
        "test_images = test_images / 255.0\n",
        "train_labels = to_categorical(train_labels)\n",
        "test_labels = to_categorical(test_labels)"
      ],
      "metadata": {
        "id": "lrWGP0kzqx-S"
      },
      "execution_count": 15,
      "outputs": []
    },
    {
      "cell_type": "markdown",
      "source": [
        "Создание простой полносвязной модели"
      ],
      "metadata": {
        "id": "Dgmz3BMywmkf"
      }
    },
    {
      "cell_type": "code",
      "source": [
        "model1 = Sequential([Flatten(input_shape=(28, 28)), Dense(128, activation='relu'), Dense(10, activation='softmax')])\n",
        "model1.compile(optimizer='adam', loss='categorical_crossentropy', metrics=['accuracy'])\n",
        "model1.fit(train_images, train_labels, epochs=5)\n",
        "test_loss, test_acc = model1.evaluate(test_images, test_labels)\n",
        "print(f'Test accuracy on clean images: {test_acc}')\n",
        "model1.save('mnist_model_1.h5')"
      ],
      "metadata": {
        "colab": {
          "base_uri": "https://localhost:8080/"
        },
        "id": "9XT23L3iq1ro",
        "outputId": "c2043191-0483-48c7-f10c-e795a4eb8965"
      },
      "execution_count": 17,
      "outputs": [
        {
          "output_type": "stream",
          "name": "stdout",
          "text": [
            "Epoch 1/5\n",
            "\u001b[1m1875/1875\u001b[0m \u001b[32m━━━━━━━━━━━━━━━━━━━━\u001b[0m\u001b[37m\u001b[0m \u001b[1m5s\u001b[0m 2ms/step - accuracy: 0.8764 - loss: 0.4364\n",
            "Epoch 2/5\n",
            "\u001b[1m1875/1875\u001b[0m \u001b[32m━━━━━━━━━━━━━━━━━━━━\u001b[0m\u001b[37m\u001b[0m \u001b[1m3s\u001b[0m 2ms/step - accuracy: 0.9644 - loss: 0.1206\n",
            "Epoch 3/5\n",
            "\u001b[1m1875/1875\u001b[0m \u001b[32m━━━━━━━━━━━━━━━━━━━━\u001b[0m\u001b[37m\u001b[0m \u001b[1m5s\u001b[0m 2ms/step - accuracy: 0.9758 - loss: 0.0784\n",
            "Epoch 4/5\n",
            "\u001b[1m1875/1875\u001b[0m \u001b[32m━━━━━━━━━━━━━━━━━━━━\u001b[0m\u001b[37m\u001b[0m \u001b[1m4s\u001b[0m 2ms/step - accuracy: 0.9825 - loss: 0.0592\n",
            "Epoch 5/5\n",
            "\u001b[1m1875/1875\u001b[0m \u001b[32m━━━━━━━━━━━━━━━━━━━━\u001b[0m\u001b[37m\u001b[0m \u001b[1m3s\u001b[0m 2ms/step - accuracy: 0.9871 - loss: 0.0428\n",
            "\u001b[1m313/313\u001b[0m \u001b[32m━━━━━━━━━━━━━━━━━━━━\u001b[0m\u001b[37m\u001b[0m \u001b[1m1s\u001b[0m 2ms/step - accuracy: 0.9685 - loss: 0.1005\n"
          ]
        },
        {
          "output_type": "stream",
          "name": "stderr",
          "text": [
            "WARNING:absl:You are saving your model as an HDF5 file via `model.save()` or `keras.saving.save_model(model)`. This file format is considered legacy. We recommend using instead the native Keras format, e.g. `model.save('my_model.keras')` or `keras.saving.save_model(model, 'my_model.keras')`. \n"
          ]
        },
        {
          "output_type": "stream",
          "name": "stdout",
          "text": [
            "Test accuracy on clean images: 0.9739000201225281\n"
          ]
        }
      ]
    },
    {
      "cell_type": "markdown",
      "source": [
        "Создание свёрточной нейронной сети"
      ],
      "metadata": {
        "id": "3bdoWJXYwrgR"
      }
    },
    {
      "cell_type": "code",
      "source": [
        "model2 = Sequential([Conv2D(32, (3, 3), activation='relu', input_shape=(28, 28, 1)), MaxPooling2D((2, 2)), Flatten(), Dense(128, activation='relu'), Dense(10, activation='softmax')])\n",
        "model2.compile(optimizer='adam', loss='categorical_crossentropy', metrics=['accuracy'])\n",
        "model2.fit(train_images, train_labels, epochs=5)\n",
        "test_loss, test_acc = model2.evaluate(test_images, test_labels)\n",
        "print(f'Test accuracy on clean images: {test_acc}')\n",
        "model2.save('mnist_model_2.h5')"
      ],
      "metadata": {
        "colab": {
          "base_uri": "https://localhost:8080/"
        },
        "id": "Wr3kDBa2q4sk",
        "outputId": "bafa8e90-6e1a-4a3c-eb87-af252ac51c16"
      },
      "execution_count": 18,
      "outputs": [
        {
          "output_type": "stream",
          "name": "stdout",
          "text": [
            "Epoch 1/5\n",
            "\u001b[1m1875/1875\u001b[0m \u001b[32m━━━━━━━━━━━━━━━━━━━━\u001b[0m\u001b[37m\u001b[0m \u001b[1m6s\u001b[0m 2ms/step - accuracy: 0.9135 - loss: 0.2897\n",
            "Epoch 2/5\n",
            "\u001b[1m1875/1875\u001b[0m \u001b[32m━━━━━━━━━━━━━━━━━━━━\u001b[0m\u001b[37m\u001b[0m \u001b[1m4s\u001b[0m 2ms/step - accuracy: 0.9851 - loss: 0.0496\n",
            "Epoch 3/5\n",
            "\u001b[1m1875/1875\u001b[0m \u001b[32m━━━━━━━━━━━━━━━━━━━━\u001b[0m\u001b[37m\u001b[0m \u001b[1m4s\u001b[0m 2ms/step - accuracy: 0.9910 - loss: 0.0298\n",
            "Epoch 4/5\n",
            "\u001b[1m1875/1875\u001b[0m \u001b[32m━━━━━━━━━━━━━━━━━━━━\u001b[0m\u001b[37m\u001b[0m \u001b[1m5s\u001b[0m 2ms/step - accuracy: 0.9942 - loss: 0.0180\n",
            "Epoch 5/5\n",
            "\u001b[1m1875/1875\u001b[0m \u001b[32m━━━━━━━━━━━━━━━━━━━━\u001b[0m\u001b[37m\u001b[0m \u001b[1m4s\u001b[0m 2ms/step - accuracy: 0.9964 - loss: 0.0120\n",
            "\u001b[1m313/313\u001b[0m \u001b[32m━━━━━━━━━━━━━━━━━━━━\u001b[0m\u001b[37m\u001b[0m \u001b[1m1s\u001b[0m 2ms/step - accuracy: 0.9812 - loss: 0.0618\n"
          ]
        },
        {
          "output_type": "stream",
          "name": "stderr",
          "text": [
            "WARNING:absl:You are saving your model as an HDF5 file via `model.save()` or `keras.saving.save_model(model)`. This file format is considered legacy. We recommend using instead the native Keras format, e.g. `model.save('my_model.keras')` or `keras.saving.save_model(model, 'my_model.keras')`. \n"
          ]
        },
        {
          "output_type": "stream",
          "name": "stdout",
          "text": [
            "Test accuracy on clean images: 0.98580002784729\n"
          ]
        }
      ]
    },
    {
      "cell_type": "markdown",
      "source": [
        "Атака FGSM на простую полносвязную модель"
      ],
      "metadata": {
        "id": "eoAEzTAAxGwg"
      }
    },
    {
      "cell_type": "code",
      "source": [
        "def fgsm_attack(image, epsilon, gradient):\n",
        "  perturbed_image = image + epsilon * np.sign(gradient)\n",
        "  perturbed_image = np.clip(perturbed_image, 0, 1)\n",
        "  return perturbed_image\n",
        "def generate_adversarial_example(model, images, labels, epsilon):\n",
        "    adversarial_images = []\n",
        "    for i in range(len(images)):\n",
        "      image = tf.convert_to_tensor(images[i].reshape((1, 28, 28, 1)))\n",
        "      label = labels[i]\n",
        "      if len(label.shape) > 1 and label.shape[1] > 1:\n",
        "          label = np.argmax(label),\n",
        "      label = tf.convert_to_tensor(label)\n",
        "      with tf.GradientTape() as tape:\n",
        "          tape.watch(image)\n",
        "          prediction = model(image)\n",
        "          loss = tf.keras.losses.categorical_crossentropy(label[None], prediction)\n",
        "      gradient = tape.gradient(loss, image)\n",
        "      adversarial_image = fgsm_attack(image.numpy(), epsilon, gradient.numpy())\n",
        "      adversarial_images.append(np.reshape(adversarial_image, (28, 28, 1)))\n",
        "    return np.array(adversarial_images)\n",
        "epsilon = 0.1\n",
        "adversarial_example = generate_adversarial_example(model1, test_images, test_labels, epsilon)"
      ],
      "metadata": {
        "id": "Q-rmJEnjrBBc"
      },
      "execution_count": 19,
      "outputs": []
    },
    {
      "cell_type": "code",
      "source": [
        "plt.figure(figsize=(10, 5))\n",
        "plt.subplot(1, 2, 1)\n",
        "plt.title(\"Оригинальное изображение:\")\n",
        "plt.imshow(test_images[14], cmap=\"gray\")\n",
        "plt.subplot(1, 2, 2)\n",
        "plt.title(\"Противоречивое изображение:\")\n",
        "plt.imshow(adversarial_example[14].reshape(28, 28), cmap=\"gray\")\n",
        "plt.show()"
      ],
      "metadata": {
        "colab": {
          "base_uri": "https://localhost:8080/",
          "height": 435
        },
        "id": "WIU4D-u9rEQT",
        "outputId": "4bc7b840-52fd-4881-816c-a58be78421eb"
      },
      "execution_count": 20,
      "outputs": [
        {
          "output_type": "display_data",
          "data": {
            "text/plain": [
              "<Figure size 1000x500 with 2 Axes>"
            ],
            "image/png": "[encoded data removed]"
          },
          "metadata": {}
        }
      ]
    },
    {
      "cell_type": "markdown",
      "source": [
        "Оценка противоречивых примеров на обеих моделях"
      ],
      "metadata": {
        "id": "YBdkaxkaxrv0"
      }
    },
    {
      "cell_type": "code",
      "source": [
        "adversarial_loss1, adversarial_acc1 = model1.evaluate(adversarial_example.reshape(10000, 28, 28),\n",
        "test_labels)\n",
        "adversarial_loss2, adversarial_acc2 = model2.evaluate(adversarial_example.reshape(10000, 28, 28),\n",
        "test_labels)\n",
        "print(f'Accuracy of model1 on adversarial examples {adversarial_acc1}')\n",
        "print(f'Accuracy of model2 on adversarial examples from model1 {adversarial_acc2}')"
      ],
      "metadata": {
        "colab": {
          "base_uri": "https://localhost:8080/"
        },
        "id": "z2qg9c33rHCB",
        "outputId": "8a8a13e3-b92e-41f9-e6b7-3449981a4d99"
      },
      "execution_count": 21,
      "outputs": [
        {
          "output_type": "stream",
          "name": "stdout",
          "text": [
            "\u001b[1m313/313\u001b[0m \u001b[32m━━━━━━━━━━━━━━━━━━━━\u001b[0m\u001b[37m\u001b[0m \u001b[1m0s\u001b[0m 1ms/step - accuracy: 0.0772 - loss: 7.5716\n",
            "\u001b[1m313/313\u001b[0m \u001b[32m━━━━━━━━━━━━━━━━━━━━\u001b[0m\u001b[37m\u001b[0m \u001b[1m0s\u001b[0m 1ms/step - accuracy: 0.9596 - loss: 0.1423\n",
            "Accuracy of model1 on adversarial examples 0.10329999774694443\n",
            "Accuracy of model2 on adversarial examples from model1 0.9663000106811523\n"
          ]
        }
      ]
    },
    {
      "cell_type": "markdown",
      "source": [
        "Атака FGSM на сверточную нейронную сеть"
      ],
      "metadata": {
        "id": "ps36oYTtxezs"
      }
    },
    {
      "cell_type": "code",
      "source": [
        "adversarial_example1 = generate_adversarial_example(model2, test_images, test_labels, epsilon)"
      ],
      "metadata": {
        "id": "vHegmjNhrJ1v"
      },
      "execution_count": 22,
      "outputs": []
    },
    {
      "cell_type": "code",
      "source": [
        "plt.figure(figsize=(10, 5))\n",
        "plt.subplot(1, 2, 1)\n",
        "plt.title(\"Оригинальное изображение:\")\n",
        "plt.imshow(test_images[14], cmap=\"gray\")\n",
        "plt.subplot(1, 2, 2)\n",
        "plt.title(\"Противоречивое изображение:\")\n",
        "plt.imshow(adversarial_example1[14].reshape(28, 28), cmap=\"gray\")\n",
        "plt.show()"
      ],
      "metadata": {
        "colab": {
          "base_uri": "https://localhost:8080/",
          "height": 435
        },
        "id": "ePIy54fOrNcV",
        "outputId": "90bc70fa-adbc-4f3b-91f2-f20fa060aa5a"
      },
      "execution_count": 23,
      "outputs": [
        {
          "output_type": "display_data",
          "data": {
            "text/plain": [
              "<Figure size 1000x500 with 2 Axes>"
            ],
            "image/png": "[encoded data removed]"
          },
          "metadata": {}
        }
      ]
    },
    {
      "cell_type": "markdown",
      "source": [
        "Оценка противоречивых примеров на обеих моделях"
      ],
      "metadata": {
        "id": "23JJFx-Sxov9"
      }
    },
    {
      "cell_type": "code",
      "source": [
        "adversarial_loss3, adversarial_acc3 = model1.evaluate(adversarial_example1.reshape(10000, 28, 28),\n",
        "test_labels)\n",
        "adversarial_loss4, adversarial_acc4 = model2.evaluate(adversarial_example1.reshape(10000, 28, 28),\n",
        "test_labels)\n",
        "print(f'Accuracy of model1 on adversarial examples {adversarial_acc3}')\n",
        "print(f'Accuracy of model2 on adversarial examples from model1 {adversarial_acc4}')"
      ],
      "metadata": {
        "colab": {
          "base_uri": "https://localhost:8080/"
        },
        "id": "6nyFm-gzrRrh",
        "outputId": "5448909f-0127-4ef6-a138-6740a2d77d4d"
      },
      "execution_count": 24,
      "outputs": [
        {
          "output_type": "stream",
          "name": "stdout",
          "text": [
            "\u001b[1m313/313\u001b[0m \u001b[32m━━━━━━━━━━━━━━━━━━━━\u001b[0m\u001b[37m\u001b[0m \u001b[1m0s\u001b[0m 1ms/step - accuracy: 0.9392 - loss: 0.1866\n",
            "\u001b[1m313/313\u001b[0m \u001b[32m━━━━━━━━━━━━━━━━━━━━\u001b[0m\u001b[37m\u001b[0m \u001b[1m0s\u001b[0m 1ms/step - accuracy: 0.7151 - loss: 1.1514\n",
            "Accuracy of model1 on adversarial examples 0.9480999708175659\n",
            "Accuracy of model2 on adversarial examples from model1 0.7290999889373779\n"
          ]
        }
      ]
    }
  ]
}